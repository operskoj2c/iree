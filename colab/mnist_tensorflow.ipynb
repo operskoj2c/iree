{
  "nbformat": 4,
  "nbformat_minor": 0,
  "metadata": {
    "colab": {
      "name": "mnist_tensorflow.ipynb",
      "provenance": [],
      "collapsed_sections": []
    },
    "kernelspec": {
      "display_name": "Python 3",
      "name": "python3"
    }
  },
  "cells": [
    {
      "cell_type": "markdown",
      "metadata": {
        "id": "PZtRtMMUZHJS"
      },
      "source": [
        "##### Copyright 2020 Google LLC.\n",
        "\n",
        "Licensed under the Apache License, Version 2.0 (the \"License\");"
      ]
    },
    {
      "cell_type": "code",
      "metadata": {
        "cellView": "form",
        "id": "TouZL3JZZSQe"
      },
      "source": [
        "#@title License header\n",
        "# Copyright 2020 Google LLC\n",
        "#\n",
        "# Licensed under the Apache License, Version 2.0 (the \"License\");\n",
        "# you may not use this file except in compliance with the License.\n",
        "# You may obtain a copy of the License at\n",
        "#\n",
        "#      https://www.apache.org/licenses/LICENSE-2.0\n",
        "#\n",
        "# Unless required by applicable law or agreed to in writing, software\n",
        "# distributed under the License is distributed on an \"AS IS\" BASIS,\n",
        "# WITHOUT WARRANTIES OR CONDITIONS OF ANY KIND, either express or implied.\n",
        "# See the License for the specific language governing permissions and\n",
        "# limitations under the License."
      ],
      "execution_count": 1,
      "outputs": []
    },
    {
      "cell_type": "markdown",
      "metadata": {
        "id": "O6c3qfq5Zv57"
      },
      "source": [
        "# MNIST Model TensorFlow Training, IREE Execution\n",
        "\n",
        "## Overview\n",
        "\n",
        "This notebook creates and trains a TensorFlow 2.0 model for recognizing handwritten digits using the [MNIST dataset](https://en.wikipedia.org/wiki/MNIST_database), then compiles and executes that trained model using IREE."
      ]
    },
    {
      "cell_type": "code",
      "metadata": {
        "colab": {
          "base_uri": "https://localhost:8080/"
        },
        "id": "ZpkMjTQxLzLq",
        "outputId": "f2c8bee0-5407-4fda-8950-ed7a9666292e"
      },
      "source": [
        "!python -m pip install iree-compiler-snapshot iree-runtime-snapshot iree-tools-tf-snapshot -f https://github.com/google/iree/releases"
      ],
      "execution_count": 2,
      "outputs": [
        {
          "output_type": "stream",
          "text": [
            "Looking in links: https://github.com/google/iree/releases\n",
            "Collecting iree-compiler-snapshot\n",
            "\u001b[?25l  Downloading https://github.com/google/iree/releases/download/snapshot-20210107.21/iree_compiler_snapshot-20210107.21-py3-none-manylinux2014_x86_64.whl (27.8MB)\n",
            "\u001b[K     |████████████████████████████████| 27.9MB 154kB/s \n",
            "\u001b[?25hCollecting iree-runtime-snapshot\n",
            "\u001b[?25l  Downloading https://github.com/google/iree/releases/download/snapshot-20210107.21/iree_runtime_snapshot-20210107.21-cp36-cp36m-manylinux2014_x86_64.whl (1.0MB)\n",
            "\u001b[K     |████████████████████████████████| 1.0MB 56.9MB/s \n",
            "\u001b[?25hCollecting iree-tools-tf-snapshot\n",
            "\u001b[?25l  Downloading https://github.com/google/iree/releases/download/snapshot-20210107.21/iree_tools_tf_snapshot-20210107.21-py3-none-manylinux2014_x86_64.whl (41.4MB)\n",
            "\u001b[K     |████████████████████████████████| 41.4MB 85kB/s \n",
            "\u001b[?25hInstalling collected packages: iree-compiler-snapshot, iree-runtime-snapshot, iree-tools-tf-snapshot\n",
            "Successfully installed iree-compiler-snapshot-20210107.21 iree-runtime-snapshot-20210107.21 iree-tools-tf-snapshot-20210107.21\n"
          ],
          "name": "stdout"
        }
      ]
    },
    {
      "cell_type": "code",
      "metadata": {
        "id": "EPF7RGQDYK-M",
        "colab": {
          "base_uri": "https://localhost:8080/"
        },
        "outputId": "99323e03-bad5-4146-ec39-5fba2e62939b"
      },
      "source": [
        "#@title Imports and Setup\n",
        "\n",
        "from pyiree import rt as ireert\n",
        "from pyiree.tf.support import module_utils\n",
        "from pyiree.compiler2 import tf as tfc\n",
        "\n",
        "from matplotlib import pyplot as plt\n",
        "import numpy as np\n",
        "import os\n",
        "import tempfile\n",
        "import tensorflow as tf\n",
        "\n",
        "ARTIFACTS_DIR = os.path.join(tempfile.gettempdir(), 'iree', 'modules')\n",
        "print(\"Artifacts directory is: \", ARTIFACTS_DIR)\n",
        "\n",
        "plt.style.use(\"seaborn-whitegrid\")\n",
        "plt.rcParams[\"font.family\"] = \"monospace\"\n",
        "\n",
        "# Print version information for future notebook users to reference.\n",
        "print(\"TensorFlow version: \", tf.__version__)\n",
        "print(\"Numpy version: \", np.__version__)\n",
        "\n",
        "# (Temporary) workaround for absl flags...\n",
        "# https://github.com/googlecolab/colabtools/issues/1323#issuecomment-756343620\n",
        "import sys\n",
        "from absl import app\n",
        "sys.argv = sys.argv[:1]\n",
        "try:\n",
        "  app.run(lambda argv: None)\n",
        "except:\n",
        "  pass"
      ],
      "execution_count": 3,
      "outputs": [
        {
          "output_type": "stream",
          "text": [
            "Artifacts directory is:  /tmp/iree/modules\n",
            "TensorFlow version:  2.4.0\n",
            "Numpy version:  1.19.4\n"
          ],
          "name": "stdout"
        }
      ]
    },
    {
      "cell_type": "markdown",
      "metadata": {
        "id": "5vkQOMOMbXdy"
      },
      "source": [
        "# Create and Train MNIST Model in TensorFlow\n",
        "\n",
        "The specific details of the training process here aren't critical to the model compilation and execution through IREE."
      ]
    },
    {
      "cell_type": "code",
      "metadata": {
        "id": "XPo8ATGqqZbW",
        "colab": {
          "base_uri": "https://localhost:8080/",
          "height": 348
        },
        "outputId": "b1a692a8-4523-4ba6-e00e-6cd71668fcc1"
      },
      "source": [
        "#@title Load MNIST dataset, setup training and evaluation\n",
        "\n",
        "# Keras datasets don't provide metadata.\n",
        "NUM_CLASSES = 10\n",
        "NUM_ROWS, NUM_COLS = 28, 28\n",
        "\n",
        "(x_train, y_train), (x_test, y_test) = tf.keras.datasets.mnist.load_data()\n",
        "\n",
        "# Reshape into grayscale images:\n",
        "x_train = np.reshape(x_train, (-1, NUM_ROWS, NUM_COLS, 1))\n",
        "x_test = np.reshape(x_test, (-1, NUM_ROWS, NUM_COLS, 1))\n",
        "\n",
        "# Rescale uint8 pixel values into floats:\n",
        "x_train = x_train / 255\n",
        "x_test = x_test / 255\n",
        "\n",
        "# Explicitly cast to float32 because numpy defaults to double precision and\n",
        "# IREE uses single precision:\n",
        "x_train = x_train.astype(np.float32)\n",
        "x_test = x_test.astype(np.float32)\n",
        "\n",
        "print(\"Sample image from the dataset:\")\n",
        "sample_index = np.random.randint(x_train.shape[0])\n",
        "plt.imshow(x_train[sample_index].reshape(NUM_ROWS, NUM_COLS), cmap=\"gray\")\n",
        "plt.title(f\"Sample #{sample_index}, label: {y_train[sample_index]}\")\n",
        "plt.axis(\"off\")\n",
        "plt.tight_layout()"
      ],
      "execution_count": 4,
      "outputs": [
        {
          "output_type": "stream",
          "text": [
            "Downloading data from https://storage.googleapis.com/tensorflow/tf-keras-datasets/mnist.npz\n",
            "11493376/11490434 [==============================] - 0s 0us/step\n",
            "Sample image from the dataset:\n"
          ],
          "name": "stdout"
        },
        {
          "output_type": "display_data",
          "data": {
            "image/png": "[encoded data removed]",
            "text/plain": [
              "<Figure size 432x288 with 1 Axes>"
            ]
          },
          "metadata": {
            "tags": []
          }
        }
      ]
    },
    {
      "cell_type": "code",
      "metadata": {
        "id": "tHq96SIJcNfx"
      },
      "source": [
        "#@title Define a DNN model using tf.keras API\n",
        "\n",
        "def simple_dnn(num_classes):\n",
        "  \"\"\"Creates a simple multi-layer perceptron model.\"\"\"\n",
        "\n",
        "  model = tf.keras.models.Sequential()\n",
        "  # Flatten to a 1d array (e.g. 28x28x1 -> 784).\n",
        "  model.add(tf.keras.layers.Flatten())\n",
        "  # Fully-connected neural layer with 128 neurons, RELU activation.\n",
        "  model.add(tf.keras.layers.Dense(128, activation=\"relu\"))\n",
        "  # Fully-connected neural layer returning probability scores for each class.\n",
        "  model.add(tf.keras.layers.Dense(num_classes, activation=\"softmax\"))\n",
        "  return model"
      ],
      "execution_count": 5,
      "outputs": []
    },
    {
      "cell_type": "code",
      "metadata": {
        "id": "43BH_9YcsGs8"
      },
      "source": [
        "#@markdown ### Training Parameters\n",
        "\n",
        "batch_size = 32  #@param { type: \"slider\", min: 10, max: 400 }\n",
        "num_epochs = 8    #@param { type: \"slider\", min:  1, max:  20 }"
      ],
      "execution_count": 6,
      "outputs": []
    },
    {
      "cell_type": "code",
      "metadata": {
        "id": "7Gdxh7qWcPSO",
        "colab": {
          "base_uri": "https://localhost:8080/"
        },
        "outputId": "ff0cf33d-353e-478b-b80c-3fb67d97744d"
      },
      "source": [
        "#@title Train the Keras model\n",
        "\n",
        "tf_model = simple_dnn(NUM_CLASSES)\n",
        "# Stateful optimizers like Adam create variable incompatible with compilation as\n",
        "# currently implemented.\n",
        "tf_model.compile(\n",
        "    optimizer=\"sgd\", loss=\"sparse_categorical_crossentropy\", metrics=\"accuracy\")\n",
        "tf_model.fit(x_train, y_train, batch_size, num_epochs, validation_split=0.1)"
      ],
      "execution_count": 7,
      "outputs": [
        {
          "output_type": "stream",
          "text": [
            "Epoch 1/8\n",
            "1688/1688 [==============================] - 4s 2ms/step - loss: 1.1068 - accuracy: 0.7158 - val_loss: 0.3270 - val_accuracy: 0.9142\n",
            "Epoch 2/8\n",
            "1688/1688 [==============================] - 3s 2ms/step - loss: 0.3705 - accuracy: 0.8982 - val_loss: 0.2648 - val_accuracy: 0.9288\n",
            "Epoch 3/8\n",
            "1688/1688 [==============================] - 3s 2ms/step - loss: 0.3143 - accuracy: 0.9133 - val_loss: 0.2326 - val_accuracy: 0.9397\n",
            "Epoch 4/8\n",
            "1688/1688 [==============================] - 3s 2ms/step - loss: 0.2728 - accuracy: 0.9236 - val_loss: 0.2127 - val_accuracy: 0.9440\n",
            "Epoch 5/8\n",
            "1688/1688 [==============================] - 3s 2ms/step - loss: 0.2529 - accuracy: 0.9294 - val_loss: 0.1982 - val_accuracy: 0.9477\n",
            "Epoch 6/8\n",
            "1688/1688 [==============================] - 3s 2ms/step - loss: 0.2327 - accuracy: 0.9347 - val_loss: 0.1853 - val_accuracy: 0.9523\n",
            "Epoch 7/8\n",
            "1688/1688 [==============================] - 3s 2ms/step - loss: 0.2141 - accuracy: 0.9403 - val_loss: 0.1720 - val_accuracy: 0.9572\n",
            "Epoch 8/8\n",
            "1688/1688 [==============================] - 3s 2ms/step - loss: 0.2040 - accuracy: 0.9417 - val_loss: 0.1652 - val_accuracy: 0.9588\n"
          ],
          "name": "stdout"
        },
        {
          "output_type": "execute_result",
          "data": {
            "text/plain": [
              "<tensorflow.python.keras.callbacks.History at 0x7fb807694160>"
            ]
          },
          "metadata": {
            "tags": []
          },
          "execution_count": 7
        }
      ]
    },
    {
      "cell_type": "markdown",
      "metadata": {
        "id": "nZdVUd_dgTtc"
      },
      "source": [
        "# Compile and Execute MNIST Model using IREE"
      ]
    },
    {
      "cell_type": "code",
      "metadata": {
        "id": "DmespEaFcSEL"
      },
      "source": [
        "#@title Wrap the model in a tf.Module with IREE-compatible settings and convert to MLIR.\n",
        "\n",
        "# Since the model was written in sequential style, explicitly wrap in a module.\n",
        "inference_module = tf.Module()\n",
        "inference_module.model = tf_model\n",
        "\n",
        "# Hack: Convert to static shape. Won't be necessary once dynamic shapes are in.\n",
        "input_shape = list(tf_model.inputs[0].shape)\n",
        "input_shape[0] = 1  # Make fixed (batch=1)\n",
        "\n",
        "# Produce a concrete function to compile.\n",
        "inference_module.predict = tf.function(input_signature=[\n",
        "    tf.TensorSpec(input_shape, tf_model.inputs[0].dtype)\n",
        "])(lambda x: tf_model.call(x, training=False))\n",
        "\n",
        "# Only try to compile the function we care about:\n",
        "exported_names = [\"predict\"]"
      ],
      "execution_count": 8,
      "outputs": []
    },
    {
      "cell_type": "code",
      "metadata": {
        "id": "G7v-2EbjyggO"
      },
      "source": [
        "#@markdown ### Backend Configuration\n",
        "\n",
        "backend_choice = \"iree_vmla (CPU)\" #@param [ \"iree_vmla (CPU)\", \"iree_llvmaot (CPU)\", \"iree_vulkan (GPU/SwiftShader)\" ]\n",
        "backend_choice = backend_choice.split(\" \")[0]\n",
        "backend = module_utils.BackendInfo(backend_choice)"
      ],
      "execution_count": 9,
      "outputs": []
    },
    {
      "cell_type": "code",
      "metadata": {
        "id": "IDHI7h3khJr9",
        "colab": {
          "base_uri": "https://localhost:8080/"
        },
        "outputId": "79f3191b-7e8e-4e10-9cea-cff168f7c958"
      },
      "source": [
        "#@title Compile the mhlo MLIR to an IREE backend and prepare a context to execute it\n",
        "\n",
        "iree_module = module_utils.IreeCompiledModule.create_from_instance(\n",
        "    inference_module, backend, exported_names, ARTIFACTS_DIR)\n",
        "\n",
        "print(\"* Module compiled! See intermediate .mlir files in\", ARTIFACTS_DIR, \"*\")"
      ],
      "execution_count": 10,
      "outputs": [
        {
          "output_type": "stream",
          "text": [
            "I0107 21:49:35.160961 140429953972096 module_utils.py:88] Outputting intermediate artifacts (--artifacts_dir is set):\n",
            "  output_file: /tmp/iree/modules/iree_vmla/compiled.vmfb\n",
            "  saved_model_dir: /tmp/iree/modules/tfmodule.saved_model\n",
            "  save_temp_tf_input: /tmp/iree/modules/tf_input.mlir\n",
            "  save_temp_iree_input: /tmp/iree/modules/iree_input.mlir\n",
            "  crash_reproducer_path: /tmp/iree/modules/reproducer__iree_vmla.mlir\n"
          ],
          "name": "stderr"
        },
        {
          "output_type": "stream",
          "text": [
            "INFO:tensorflow:Assets written to: /tmp/iree/modules/tfmodule.saved_model/assets\n"
          ],
          "name": "stdout"
        },
        {
          "output_type": "stream",
          "text": [
            "I0107 21:49:35.632078 140429953972096 builder_impl.py:775] Assets written to: /tmp/iree/modules/tfmodule.saved_model/assets\n"
          ],
          "name": "stderr"
        },
        {
          "output_type": "stream",
          "text": [
            "* Module compiled! See intermediate .mlir files in /tmp/iree/modules *\n"
          ],
          "name": "stdout"
        },
        {
          "output_type": "stream",
          "text": [
            "2021-01-07 21:49:35.767974: I external/org_tensorflow/tensorflow/cc/saved_model/bundle_v2.cc:32] Reading SavedModel from: /tmp/iree/modules/tfmodule.saved_model\n",
            "2021-01-07 21:49:35.768968: I external/org_tensorflow/tensorflow/cc/saved_model/bundle_v2.cc:55] Reading SavedModel debug info (if present) from: /tmp/iree/modules/tfmodule.saved_model\n",
            "Created IREE driver vmla: <pyiree.rt.binding.HalDriver object at 0x7fb803d9d2d0>\n",
            "SystemContext driver=<pyiree.rt.binding.HalDriver object at 0x7fb803d9d2d0>\n"
          ],
          "name": "stderr"
        }
      ]
    },
    {
      "cell_type": "code",
      "metadata": {
        "id": "S2FYao92Xd6r",
        "colab": {
          "base_uri": "https://localhost:8080/",
          "height": 297
        },
        "outputId": "38a1c963-f484-455e-da78-1dcabdf1f92b"
      },
      "source": [
        "#@title Execute the compiled module and compare the results with TensorFlow\n",
        "\n",
        "# Invoke the 'predict' function with a single image as an argument\n",
        "iree_prediction = iree_module.predict(x_train[sample_index][None, :])[0]\n",
        "tf_prediction = tf_model.predict(x_train[sample_index][None, :])[0]\n",
        "error = tf_prediction - iree_prediction\n",
        "\n",
        "fig, axs = plt.subplots(1, 2)\n",
        "fig.set_figwidth(12)\n",
        "\n",
        "ax = axs[0]\n",
        "ax.plot(iree_prediction, linewidth=2, label=backend.backend_name)\n",
        "ax.plot(tf_prediction, linewidth=2, label=\"tf\")\n",
        "\n",
        "ax.set_title(\"Predictions\")\n",
        "ax.set_ylabel(\"Softmax 'Probability'\")\n",
        "ax.set_xlabel(\"Digit\")\n",
        "ax.set_ylim(0, 1)\n",
        "ax.set_xlim(0, 9)\n",
        "ax.legend(frameon=True)\n",
        "\n",
        "ax = axs[1]\n",
        "ax.plot(error)\n",
        "\n",
        "ax.set_title(\"Error\")\n",
        "ax.set_ylabel(\"Numerical between TF and IREE\")\n",
        "ax.set_xlabel(\"Digit\")\n",
        "ylim = 1.25 * np.max(np.abs(error))\n",
        "ax.set_ylim(-ylim, ylim)\n",
        "ax.set_xlim(0, 9)\n",
        "\n",
        "fig.tight_layout()"
      ],
      "execution_count": 11,
      "outputs": [
        {
          "output_type": "display_data",
          "data": {
            "image/png": "[encoded data removed]",
            "text/plain": [
              "<Figure size 864x288 with 2 Axes>"
            ]
          },
          "metadata": {
            "tags": []
          }
        }
      ]
    }
  ]
}