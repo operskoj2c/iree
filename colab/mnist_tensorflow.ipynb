{
  "cells": [
    {
      "cell_type": "markdown",
      "metadata": {
        "id": "PZtRtMMUZHJS"
      },
      "source": [
        "##### Copyright 2020 Google LLC.\n",
        "\n",
        "Licensed under the Apache License, Version 2.0 (the \"License\");"
      ]
    },
    {
      "cell_type": "code",
      "execution_count": null,
      "metadata": {
        "cellView": "form",
        "id": "TouZL3JZZSQe"
      },
      "outputs": [],
      "source": [
        "#@title License header\n",
        "# Copyright 2020 Google LLC\n",
        "#\n",
        "# Licensed under the Apache License, Version 2.0 (the \"License\");\n",
        "# you may not use this file except in compliance with the License.\n",
        "# You may obtain a copy of the License at\n",
        "#\n",
        "#      https://www.apache.org/licenses/LICENSE-2.0\n",
        "#\n",
        "# Unless required by applicable law or agreed to in writing, software\n",
        "# distributed under the License is distributed on an \"AS IS\" BASIS,\n",
        "# WITHOUT WARRANTIES OR CONDITIONS OF ANY KIND, either express or implied.\n",
        "# See the License for the specific language governing permissions and\n",
        "# limitations under the License."
      ]
    },
    {
      "cell_type": "markdown",
      "metadata": {
        "id": "O6c3qfq5Zv57"
      },
      "source": [
        "# MNIST Model TensorFlow Training, IREE Execution\n",
        "\n",
        "## Overview\n",
        "\n",
        "This notebook creates and trains a TensorFlow 2.0 model for recognizing handwritten digits using the [MNIST dataset](https://en.wikipedia.org/wiki/MNIST_database), then compiles and executes that trained model using IREE.\n",
        "\n",
        "## Running Locally\n",
        "\n",
        "*  Refer to [using_colab.md](https://google.github.io/iree/using-iree/using-colab) for general information\n",
        "*  Ensure that you have a recent version of TensorFlow 2.0 [installed on your system](https://www.tensorflow.org/install)\n",
        "*  Enable IREE/TF integration by adding to your user.bazelrc: `build --define=iree_tensorflow=true`\n",
        "*  Start colab by running `python colab/start_colab_kernel.py` (see that file for additional instructions)\n",
        "*  Note: you may need to restart your runtime in order to re-run certain cells. Some of the APIs are not yet stable enough for repeated invocations"
      ]
    },
    {
      "cell_type": "code",
      "execution_count": 1,
      "metadata": {
        "cellView": "both",
        "executionInfo": {
          "elapsed": 12184,
          "status": "ok",
          "timestamp": 1601949421367,
          "user": {
            "displayName": "",
            "photoUrl": "",
            "userId": ""
          },
          "user_tz": 420
        },
        "id": "EPF7RGQDYK-M",
        "outputId": "2c6d6e18-56e8-4431-91b8-9021589b68d0"
      },
      "outputs": [
        {
          "name": "stdout",
          "output_type": "stream",
          "text": [
            "TensorFlow version:  2.4.0\n",
            "Numpy version:  1.16.4\n"
          ]
        }
      ],
      "source": [
        "#@title Imports\n",
        "\n",
        "from pyiree import rt as ireert\n",
        "from pyiree.tf import compiler as ireec\n",
        "from pyiree.tf.support import tf_utils\n",
        "\n",
        "from matplotlib import pyplot as plt\n",
        "import numpy as np\n",
        "import tensorflow as tf\n",
        "\n",
        "plt.style.use(\"seaborn-whitegrid\")\n",
        "plt.rcParams[\"font.family\"] = \"monospace\"\n",
        "\n",
        "# Print version information for future notebook users to reference.\n",
        "print(\"TensorFlow version: \", tf.__version__)\n",
        "print(\"Numpy version: \", np.__version__)"
      ]
    },
    {
      "cell_type": "markdown",
      "metadata": {
        "id": "5vkQOMOMbXdy"
      },
      "source": [
        "# Create and Train MNIST Model in TensorFlow\n",
        "\n",
        "The specific details of the training process here aren't critical to the model compilation and execution through IREE."
      ]
    },
    {
      "cell_type": "code",
      "execution_count": 17,
      "metadata": {
        "cellView": "both",
        "colab": {
          "height": 316
        },
        "executionInfo": {
          "elapsed": 2328,
          "status": "ok",
          "timestamp": 1601949599195,
          "user": {
            "displayName": "",
            "photoUrl": "",
            "userId": ""
          },
          "user_tz": 420
        },
        "id": "XPo8ATGqqZbW",
        "outputId": "a62fb08a-84a4-445e-efad-6899432fe1f5"
      },
      "outputs": [
        {
          "name": "stdout",
          "output_type": "stream",
          "text": [
            "Sample image from the dataset:\n"
          ]
        },
        {
          "data": {
            "image/png": "[encoded data removed]",
            "text/plain": [
              "\u003cFigure size 600x400 with 1 Axes\u003e"
            ]
          },
          "metadata": {
            "tags": []
          },
          "output_type": "display_data"
        }
      ],
      "source": [
        "#@title Load MNIST dataset, setup training and evaluation\n",
        "\n",
        "# Keras datasets don't provide metadata.\n",
        "NUM_CLASSES = 10\n",
        "NUM_ROWS, NUM_COLS = 28, 28\n",
        "\n",
        "(x_train, y_train), (x_test, y_test) = tf.keras.datasets.mnist.load_data()\n",
        "\n",
        "# Reshape into grayscale images:\n",
        "x_train = np.reshape(x_train, (-1, NUM_ROWS, NUM_COLS, 1))\n",
        "x_test = np.reshape(x_test, (-1, NUM_ROWS, NUM_COLS, 1))\n",
        "\n",
        "# Rescale uint8 pixel values into floats:\n",
        "x_train = x_train / 255\n",
        "x_test = x_test / 255\n",
        "\n",
        "# Explicitly cast to float32 because numpy defaults to double precision and\n",
        "# IREE uses single precision:\n",
        "x_train = x_train.astype(np.float32)\n",
        "x_test = x_test.astype(np.float32)\n",
        "\n",
        "print(\"Sample image from the dataset:\")\n",
        "sample_index = np.random.randint(x_train.shape[0])\n",
        "plt.imshow(x_train[sample_index].reshape(NUM_ROWS, NUM_COLS), cmap=\"gray\")\n",
        "plt.title(f\"Sample #{sample_index}, label: {y_train[sample_index]}\")\n",
        "plt.axis(\"off\")\n",
        "plt.tight_layout()"
      ]
    },
    {
      "cell_type": "code",
      "execution_count": 18,
      "metadata": {
        "cellView": "both",
        "executionInfo": {
          "elapsed": 39,
          "status": "ok",
          "timestamp": 1601949599280,
          "user": {
            "displayName": "",
            "photoUrl": "",
            "userId": ""
          },
          "user_tz": 420
        },
        "id": "tHq96SIJcNfx"
      },
      "outputs": [],
      "source": [
        "#@title Define a DNN model using tf.keras API\n",
        "\n",
        "def simple_dnn(num_classes):\n",
        "  \"\"\"Creates a simple multi-layer perceptron model.\"\"\"\n",
        "\n",
        "  model = tf.keras.models.Sequential()\n",
        "  # Flatten to a 1d array (e.g. 28x28x1 -\u003e 784).\n",
        "  model.add(tf.keras.layers.Flatten())\n",
        "  # Fully-connected neural layer with 128 neurons, RELU activation.\n",
        "  model.add(tf.keras.layers.Dense(128, activation=\"relu\"))\n",
        "  # Fully-connected neural layer returning probability scores for each class.\n",
        "  model.add(tf.keras.layers.Dense(num_classes, activation=\"softmax\"))\n",
        "  return model"
      ]
    },
    {
      "cell_type": "code",
      "execution_count": 19,
      "metadata": {
        "cellView": "both",
        "executionInfo": {
          "elapsed": 256,
          "status": "ok",
          "timestamp": 1601949599540,
          "user": {
            "displayName": "",
            "photoUrl": "",
            "userId": ""
          },
          "user_tz": 420
        },
        "id": "43BH_9YcsGs8"
      },
      "outputs": [],
      "source": [
        "#@markdown ### Training Parameters\n",
        "\n",
        "batch_size = 32  #@param { type: \"slider\", min: 10, max: 400 }\n",
        "num_epochs = 8    #@param { type: \"slider\", min:  1, max:  20 }"
      ]
    },
    {
      "cell_type": "code",
      "execution_count": 20,
      "metadata": {
        "cellView": "both",
        "executionInfo": {
          "elapsed": 87216,
          "status": "ok",
          "timestamp": 1601949686760,
          "user": {
            "displayName": "",
            "photoUrl": "",
            "userId": ""
          },
          "user_tz": 420
        },
        "id": "7Gdxh7qWcPSO",
        "outputId": "e81040b3-bd89-44e7-e306-6bd07e775ee1"
      },
      "outputs": [
        {
          "name": "stdout",
          "output_type": "stream",
          "text": [
            "Epoch 1/8\n",
            "1688/1688 [==============================] - 11s 6ms/step - loss: 1.0898 - accuracy: 0.7126 - val_loss: 0.3258 - val_accuracy: 0.9160\n",
            "Epoch 2/8\n",
            "1688/1688 [==============================] - 10s 6ms/step - loss: 0.3779 - accuracy: 0.8967 - val_loss: 0.2643 - val_accuracy: 0.9245\n",
            "Epoch 3/8\n",
            "1688/1688 [==============================] - 12s 7ms/step - loss: 0.3127 - accuracy: 0.9120 - val_loss: 0.2379 - val_accuracy: 0.9325\n",
            "Epoch 4/8\n",
            "1688/1688 [==============================] - 11s 7ms/step - loss: 0.2817 - accuracy: 0.9203 - val_loss: 0.2160 - val_accuracy: 0.9375\n",
            "Epoch 5/8\n",
            "1688/1688 [==============================] - 10s 6ms/step - loss: 0.2612 - accuracy: 0.9264 - val_loss: 0.1988 - val_accuracy: 0.9452\n",
            "Epoch 6/8\n",
            "1688/1688 [==============================] - 12s 7ms/step - loss: 0.2411 - accuracy: 0.9316 - val_loss: 0.1853 - val_accuracy: 0.9487\n",
            "Epoch 7/8\n",
            "1688/1688 [==============================] - 10s 6ms/step - loss: 0.2234 - accuracy: 0.9380 - val_loss: 0.1739 - val_accuracy: 0.9525\n",
            "Epoch 8/8\n",
            "1688/1688 [==============================] - 10s 6ms/step - loss: 0.2089 - accuracy: 0.9414 - val_loss: 0.1637 - val_accuracy: 0.9567\n"
          ]
        },
        {
          "data": {
            "text/plain": [
              "\u003ctensorflow.python.keras.callbacks.History at 0x7f36690b9ac8\u003e"
            ]
          },
          "execution_count": 20,
          "metadata": {
            "tags": []
          },
          "output_type": "execute_result"
        }
      ],
      "source": [
        "#@title Train the Keras model\n",
        "\n",
        "tf_model = simple_dnn(NUM_CLASSES)\n",
        "# Stateful optimizers like Adam create variable incompatible with compilation as\n",
        "# currently implemented.\n",
        "tf_model.compile(\n",
        "    optimizer=\"sgd\", loss=\"sparse_categorical_crossentropy\", metrics=\"accuracy\")\n",
        "tf_model.fit(x_train, y_train, batch_size, num_epochs, validation_split=0.1)"
      ]
    },
    {
      "cell_type": "markdown",
      "metadata": {
        "id": "nZdVUd_dgTtc"
      },
      "source": [
        "# Compile and Execute MNIST Model using IREE"
      ]
    },
    {
      "cell_type": "code",
      "execution_count": 21,
      "metadata": {
        "executionInfo": {
          "elapsed": 857,
          "status": "ok",
          "timestamp": 1601949746337,
          "user": {
            "displayName": "",
            "photoUrl": "",
            "userId": ""
          },
          "user_tz": 420
        },
        "id": "DmespEaFcSEL"
      },
      "outputs": [],
      "source": [
        "#@title Wrap the model in a tf.Module with IREE-compatible settings and convert to MLIR.\n",
        "\n",
        "# Since the model was written in sequential style, explicitly wrap in a module.\n",
        "inference_module = tf.Module()\n",
        "inference_module.model = tf_model\n",
        "\n",
        "# Hack: Convert to static shape. Won't be necessary once dynamic shapes are in.\n",
        "input_shape = list(tf_model.inputs[0].shape)\n",
        "input_shape[0] = 1  # Make fixed (batch=1)\n",
        "\n",
        "# Produce a concrete function to compile.\n",
        "inference_module.predict = tf.function(input_signature=[\n",
        "    tf.TensorSpec(input_shape, tf_model.inputs[0].dtype)\n",
        "])(lambda x: tf_model.call(x, training=False))\n",
        "\n",
        "# Only try to compile the function we care about:\n",
        "exported_names = [\"predict\"]"
      ]
    },
    {
      "cell_type": "code",
      "execution_count": 22,
      "metadata": {
        "executionInfo": {
          "elapsed": 37,
          "status": "ok",
          "timestamp": 1601949746512,
          "user": {
            "displayName": "",
            "photoUrl": "",
            "userId": ""
          },
          "user_tz": 420
        },
        "id": "G7v-2EbjyggO"
      },
      "outputs": [],
      "source": [
        "#@markdown ### Backend Configuration\n",
        "\n",
        "backend_choice = \"iree_vmla (CPU)\" #@param [ \"iree_vmla (CPU)\", \"iree_llvmjit (CPU)\", \"iree_vulkan (GPU/SwiftShader)\" ]\n",
        "backend_choice = backend_choice.split(\" \")[0]\n",
        "backend = tf_utils.BackendInfo(backend_choice)"
      ]
    },
    {
      "cell_type": "code",
      "execution_count": 23,
      "metadata": {
        "executionInfo": {
          "elapsed": 3314,
          "status": "ok",
          "timestamp": 1601949752845,
          "user": {
            "displayName": "",
            "photoUrl": "",
            "userId": ""
          },
          "user_tz": 420
        },
        "id": "IDHI7h3khJr9",
        "outputId": "9e3b76b1-85ec-4e37-aa10-df6ed9e65ae5"
      },
      "outputs": [
        {
          "name": "stderr",
          "output_type": "stream",
          "text": [
            "Created IREE driver vmla: \u003ciree.bindings.python.pyiree.rt.binding.HalDriver object at 0x7f35f9c46458\u003e\n",
            "SystemContext driver=\u003ciree.bindings.python.pyiree.rt.binding.HalDriver object at 0x7f35f9c46458\u003e\n"
          ]
        }
      ],
      "source": [
        "#@title Compile the mhlo MLIR to an IREE backend and prepare a context to execute it\n",
        "\n",
        "iree_module = tf_utils.IreeCompiledModule.create_from_instance(\n",
        "    inference_module, backend, exported_names)"
      ]
    },
    {
      "cell_type": "code",
      "execution_count": 24,
      "metadata": {
        "colab": {
          "height": 299
        },
        "executionInfo": {
          "elapsed": 1131,
          "status": "ok",
          "timestamp": 1601949755542,
          "user": {
            "displayName": "",
            "photoUrl": "",
            "userId": ""
          },
          "user_tz": 420
        },
        "id": "S2FYao92Xd6r",
        "outputId": "d844dcac-949f-4caa-f78d-778af7d64203"
      },
      "outputs": [
        {
          "data": {
            "image/png": "[encoded data removed]",
            "text/plain": [
              "\u003cFigure size 1200x400 with 2 Axes\u003e"
            ]
          },
          "metadata": {
            "tags": []
          },
          "output_type": "display_data"
        }
      ],
      "source": [
        "#@title Execute the compiled module and compare the results with TensorFlow\n",
        "\n",
        "# Invoke the 'predict' function with a single image as an argument\n",
        "iree_prediction = iree_module.predict(x_train[sample_index][None, :])[0]\n",
        "tf_prediction = tf_model.predict(x_train[sample_index][None, :])[0]\n",
        "error = tf_prediction - iree_prediction\n",
        "\n",
        "fig, axs = plt.subplots(1, 2)\n",
        "fig.set_figwidth(12)\n",
        "\n",
        "ax = axs[0]\n",
        "ax.plot(iree_prediction, linewidth=2, label=backend.backend_name)\n",
        "ax.plot(tf_prediction, linewidth=2, label=\"tf\")\n",
        "\n",
        "ax.set_title(\"Predictions\")\n",
        "ax.set_ylabel(\"Softmax 'Probability'\")\n",
        "ax.set_xlabel(\"Digit\")\n",
        "ax.set_ylim(0, 1)\n",
        "ax.set_xlim(0, 9)\n",
        "ax.legend(frameon=True)\n",
        "\n",
        "\n",
        "ax = axs[1]\n",
        "ax.plot(error)\n",
        "\n",
        "ax.set_title(\"Error\")\n",
        "ax.set_ylabel(\"Numerical between TF and IREE\")\n",
        "ax.set_xlabel(\"Digit\")\n",
        "ylim = 1.25 * np.max(np.abs(error))\n",
        "ax.set_ylim(-ylim, ylim)\n",
        "ax.set_xlim(0, 9)\n",
        "\n",
        "fig.tight_layout()"
      ]
    }
  ],
  "metadata": {
    "colab": {
      "collapsed_sections": [],
      "last_runtime": {
        "build_target": "",
        "kind": "local"
      },
      "name": "mnist_tensorflow.ipynb",
      "provenance": []
    },
    "kernelspec": {
      "display_name": "Python 3",
      "name": "python3"
    }
  },
  "nbformat": 4,
  "nbformat_minor": 0
}
