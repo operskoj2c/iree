{
  "cells": [
    {
      "cell_type": "markdown",
      "metadata": {
        "colab_type": "text",
        "id": "PZtRtMMUZHJS"
      },
      "source": [
        "##### Copyright 2020 Google LLC.\n",
        "\n",
        "Licensed under the Apache License, Version 2.0 (the \"License\");"
      ]
    },
    {
      "cell_type": "code",
      "execution_count": null,
      "metadata": {
        "cellView": "form",
        "colab": {},
        "colab_type": "code",
        "id": "TouZL3JZZSQe"
      },
      "outputs": [],
      "source": [
        "#@title License header\n",
        "# Copyright 2020 Google LLC\n",
        "#\n",
        "# Licensed under the Apache License, Version 2.0 (the \"License\");\n",
        "# you may not use this file except in compliance with the License.\n",
        "# You may obtain a copy of the License at\n",
        "#\n",
        "#      https://www.apache.org/licenses/LICENSE-2.0\n",
        "#\n",
        "# Unless required by applicable law or agreed to in writing, software\n",
        "# distributed under the License is distributed on an \"AS IS\" BASIS,\n",
        "# WITHOUT WARRANTIES OR CONDITIONS OF ANY KIND, either express or implied.\n",
        "# See the License for the specific language governing permissions and\n",
        "# limitations under the License."
      ]
    },
    {
      "cell_type": "markdown",
      "metadata": {
        "colab_type": "text",
        "id": "O6c3qfq5Zv57"
      },
      "source": [
        "# MNIST Model TensorFlow Training, IREE Execution\n",
        "\n",
        "## Overview\n",
        "\n",
        "This notebook creates and trains a TensorFlow 2.0 model for recognizing handwritten digits using the [MNIST dataset](https://en.wikipedia.org/wiki/MNIST_database), then compiles and executes that trained model using IREE.\n",
        "\n",
        "## Running Locally\n",
        "\n",
        "*  Refer to [using_colab.md](https://google.github.io/iree/using-iree/using-colab) for general information\n",
        "*  Ensure that you have a recent version of TensorFlow 2.0 [installed on your system](https://www.tensorflow.org/install)\n",
        "*  Enable IREE/TF integration by adding to your user.bazelrc: `build --define=iree_tensorflow=true`\n",
        "*  Start colab by running `python colab/start_colab_kernel.py` (see that file for additional instructions)\n",
        "*  Note: you may need to restart your runtime in order to re-run certain cells. Some of the APIs are not yet stable enough for repeated invocations"
      ]
    },
    {
      "cell_type": "code",
      "execution_count": 1,
      "metadata": {
        "cellView": "both",
        "colab": {
          "height": 51
        },
        "colab_type": "code",
        "executionInfo": {
          "elapsed": 6750,
          "status": "ok",
          "timestamp": 1598547312105,
          "user": {
            "displayName": "",
            "photoUrl": "",
            "userId": ""
          },
          "user_tz": 420
        },
        "id": "EPF7RGQDYK-M",
        "outputId": "4aa093c1-5147-4928-9eb3-ba571c3c5326"
      },
      "outputs": [
        {
          "name": "stdout",
          "output_type": "stream",
          "text": [
            "TensorFlow version:  2.4.0\n",
            "Numpy version:  1.16.4\n"
          ]
        }
      ],
      "source": [
        "#@title Imports\n",
        "\n",
        "from pyiree import rt as ireert\n",
        "from pyiree.tf import compiler as ireec\n",
        "from pyiree.tf.support import tf_utils\n",
        "\n",
        "from matplotlib import pyplot as plt\n",
        "import numpy as np\n",
        "import tensorflow as tf\n",
        "\n",
        "plt.style.use(\"seaborn-whitegrid\")\n",
        "plt.rcParams[\"font.family\"] = \"monospace\"\n",
        "\n",
        "# Print version information for future notebook users to reference.\n",
        "print(\"TensorFlow version: \", tf.__version__)\n",
        "print(\"Numpy version: \", np.__version__)"
      ]
    },
    {
      "cell_type": "markdown",
      "metadata": {
        "colab_type": "text",
        "id": "5vkQOMOMbXdy"
      },
      "source": [
        "# Create and Train MNIST Model in TensorFlow\n",
        "\n",
        "The specific details of the training process here aren't critical to the model compilation and execution through IREE."
      ]
    },
    {
      "cell_type": "code",
      "execution_count": 2,
      "metadata": {
        "cellView": "both",
        "colab": {
          "height": 316
        },
        "colab_type": "code",
        "executionInfo": {
          "elapsed": 2696,
          "status": "ok",
          "timestamp": 1598547323963,
          "user": {
            "displayName": "",
            "photoUrl": "",
            "userId": ""
          },
          "user_tz": 420
        },
        "id": "XPo8ATGqqZbW",
        "outputId": "8a98c0eb-5ba9-41d1-a702-8c15568bd946"
      },
      "outputs": [
        {
          "name": "stdout",
          "output_type": "stream",
          "text": [
            "Sample image from the dataset:\n"
          ]
        },
        {
          "data": {
            "image/png": "[encoded data removed]",
            "text/plain": [
              "\u003cFigure size 600x400 with 1 Axes\u003e"
            ]
          },
          "metadata": {
            "tags": []
          },
          "output_type": "display_data"
        }
      ],
      "source": [
        "#@title Load MNIST dataset, setup training and evaluation\n",
        "\n",
        "# Keras datasets don't provide metadata.\n",
        "NUM_CLASSES = 10\n",
        "NUM_ROWS, NUM_COLS = 28, 28\n",
        "\n",
        "(x_train, y_train), (x_test, y_test) = tf.keras.datasets.mnist.load_data()\n",
        "\n",
        "# Reshape into grayscale images:\n",
        "x_train = np.reshape(x_train, (-1, NUM_ROWS, NUM_COLS, 1))\n",
        "x_test = np.reshape(x_test, (-1, NUM_ROWS, NUM_COLS, 1))\n",
        "\n",
        "# Rescale uint8 pixel values into floats:\n",
        "x_train = x_train / 255\n",
        "x_test = x_test / 255\n",
        "\n",
        "# Explicitly cast to float32 because numpy defaults to double precision and\n",
        "# IREE uses single precision:\n",
        "x_train = x_train.astype(np.float32)\n",
        "x_test = x_test.astype(np.float32)\n",
        "\n",
        "print(\"Sample image from the dataset:\")\n",
        "sample_index = np.random.randint(x_train.shape[0])\n",
        "plt.imshow(x_train[sample_index].reshape(NUM_ROWS, NUM_COLS), cmap=\"gray\")\n",
        "plt.title(f\"Sample #{sample_index}, label: {y_train[sample_index]}\")\n",
        "plt.axis(\"off\")\n",
        "plt.tight_layout()"
      ]
    },
    {
      "cell_type": "code",
      "execution_count": 3,
      "metadata": {
        "cellView": "both",
        "colab": {},
        "colab_type": "code",
        "executionInfo": {
          "elapsed": 47,
          "status": "ok",
          "timestamp": 1598547329812,
          "user": {
            "displayName": "",
            "photoUrl": "",
            "userId": ""
          },
          "user_tz": 420
        },
        "id": "tHq96SIJcNfx"
      },
      "outputs": [],
      "source": [
        "#@title Define a DNN model using tf.keras API\n",
        "\n",
        "def simple_dnn(num_classes):\n",
        "  \"\"\"Creates a simple multi-layer perceptron model.\"\"\"\n",
        "\n",
        "  model = tf.keras.models.Sequential()\n",
        "  # Flatten to a 1d array (e.g. 28x28x1 -\u003e 784).\n",
        "  model.add(tf.keras.layers.Flatten())\n",
        "  # Fully-connected neural layer with 128 neurons, RELU activation.\n",
        "  model.add(tf.keras.layers.Dense(128, activation=\"relu\"))\n",
        "  # Fully-connected neural layer returning probability scores for each class.\n",
        "  model.add(tf.keras.layers.Dense(num_classes, activation=\"softmax\"))\n",
        "  return model"
      ]
    },
    {
      "cell_type": "code",
      "execution_count": 4,
      "metadata": {
        "cellView": "both",
        "colab": {},
        "colab_type": "code",
        "executionInfo": {
          "elapsed": 232,
          "status": "ok",
          "timestamp": 1598547335213,
          "user": {
            "displayName": "",
            "photoUrl": "",
            "userId": ""
          },
          "user_tz": 420
        },
        "id": "43BH_9YcsGs8"
      },
      "outputs": [],
      "source": [
        "#@markdown ### Training Parameters\n",
        "\n",
        "batch_size = 32  #@param { type: \"slider\", min: 10, max: 400 }\n",
        "num_epochs = 8    #@param { type: \"slider\", min:  1, max:  20 }"
      ]
    },
    {
      "cell_type": "code",
      "execution_count": 5,
      "metadata": {
        "cellView": "both",
        "colab": {
          "height": 306
        },
        "colab_type": "code",
        "executionInfo": {
          "elapsed": 75641,
          "status": "ok",
          "timestamp": 1598547494584,
          "user": {
            "displayName": "",
            "photoUrl": "",
            "userId": ""
          },
          "user_tz": 420
        },
        "id": "7Gdxh7qWcPSO",
        "outputId": "9dd7a26a-1fad-41a8-e03e-0c775be0ee25"
      },
      "outputs": [
        {
          "name": "stdout",
          "output_type": "stream",
          "text": [
            "Epoch 1/8\n",
            "1688/1688 [==============================] - 11s 6ms/step - loss: 1.0551 - accuracy: 0.7235 - val_loss: 0.3218 - val_accuracy: 0.9170\n",
            "Epoch 2/8\n",
            "1688/1688 [==============================] - 9s 5ms/step - loss: 0.3732 - accuracy: 0.8962 - val_loss: 0.2602 - val_accuracy: 0.9283\n",
            "Epoch 3/8\n",
            "1688/1688 [==============================] - 9s 5ms/step - loss: 0.3121 - accuracy: 0.9130 - val_loss: 0.2342 - val_accuracy: 0.9352\n",
            "Epoch 4/8\n",
            "1688/1688 [==============================] - 9s 5ms/step - loss: 0.2750 - accuracy: 0.9227 - val_loss: 0.2102 - val_accuracy: 0.9427\n",
            "Epoch 5/8\n",
            "1688/1688 [==============================] - 9s 5ms/step - loss: 0.2492 - accuracy: 0.9292 - val_loss: 0.1960 - val_accuracy: 0.9453\n",
            "Epoch 6/8\n",
            "1688/1688 [==============================] - 9s 5ms/step - loss: 0.2303 - accuracy: 0.9359 - val_loss: 0.1819 - val_accuracy: 0.9510\n",
            "Epoch 7/8\n",
            "1688/1688 [==============================] - 9s 5ms/step - loss: 0.2173 - accuracy: 0.9392 - val_loss: 0.1719 - val_accuracy: 0.9527\n",
            "Epoch 8/8\n",
            "1688/1688 [==============================] - 9s 5ms/step - loss: 0.2002 - accuracy: 0.9432 - val_loss: 0.1620 - val_accuracy: 0.9568\n"
          ]
        },
        {
          "data": {
            "text/plain": [
              "\u003ctensorflow.python.keras.callbacks.History at 0x7fb369d3b208\u003e"
            ]
          },
          "execution_count": 5,
          "metadata": {
            "tags": []
          },
          "output_type": "execute_result"
        }
      ],
      "source": [
        "#@title Train the Keras model\n",
        "\n",
        "tf_model = simple_dnn(NUM_CLASSES)\n",
        "# Stateful optimizers like Adam create variable incompatible with compilation as\n",
        "# currently implemented.\n",
        "tf_model.compile(optimizer=\"sgd\", loss=\"sparse_categorical_crossentropy\", metrics=\"accuracy\")\n",
        "tf_model.fit(x_train, y_train, batch_size, num_epochs, validation_split=0.1)"
      ]
    },
    {
      "cell_type": "markdown",
      "metadata": {
        "colab_type": "text",
        "id": "nZdVUd_dgTtc"
      },
      "source": [
        "# Compile and Execute MNIST Model using IREE"
      ]
    },
    {
      "cell_type": "code",
      "execution_count": 7,
      "metadata": {
        "colab": {
          "height": 819
        },
        "colab_type": "code",
        "executionInfo": {
          "elapsed": 2462,
          "status": "ok",
          "timestamp": 1598547512056,
          "user": {
            "displayName": "",
            "photoUrl": "",
            "userId": ""
          },
          "user_tz": 420
        },
        "id": "DmespEaFcSEL",
        "outputId": "72c57513-92d3-4989-bb3b-4cac42968038"
      },
      "outputs": [
        {
          "name": "stdout",
          "output_type": "stream",
          "text": [
            "Imported MLIR:\n",
            " \n",
            "\n",
            "module attributes {tf.versions = {bad_consumers = [], min_consumer = 12 : i32, producer = 506 : i32}} {\n",
            "  flow.variable @\"__iree_flow___sm_node15__model.layer-1.kernel\" opaque\u003c\"\", \"0xDEADBEEF\"\u003e : tensor\u003c784x128xf32\u003e attributes {sym_visibility = \"private\"}\n",
            "  flow.variable @\"__iree_flow___sm_node16__model.layer-1.bias\" opaque\u003c\"\", \"0xDEADBEEF\"\u003e : tensor\u003c128xf32\u003e attributes {sym_visibility = \"private\"}\n",
            "  flow.variable @\"__iree_flow___sm_node21__model.layer-2.kernel\" opaque\u003c\"\", \"0xDEADBEEF\"\u003e : tensor\u003c128x10xf32\u003e attributes {sym_visibility = \"private\"}\n",
            "  flow.variable @\"__iree_flow___sm_node22__model.layer-2.bias\" dense\u003c[-0.0863539576, 0.0952052548, 0.0697797537, -0.078638956, -0.0109204706, 0.178583801, -0.0201483201, 0.145516276, -0.258134842, -0.0348887108]\u003e : tensor\u003c10xf32\u003e attributes {sym_visibility = \"private\"}\n",
            "  func @predict(%arg0: tensor\u003c1x28x28x1xf32\u003e {tf._user_specified_name = \"x\"}) -\u003e tensor\u003c1x10xf32\u003e attributes {iree.module.export, iree.reflection = {abi = \"sip\", abiv = 1 : i32, sip = \"I8!S5!k0_0R3!_0\"}, tf._input_shapes = [#tf.shape\u003c1x28x28x1\u003e, #tf.shape\u003c*\u003e, #tf.shape\u003c*\u003e, #tf.shape\u003c*\u003e, #tf.shape\u003c*\u003e], tf.signature.is_stateful} {\n",
            "    %0 = flow.variable.address @\"__iree_flow___sm_node15__model.layer-1.kernel\" : !iree.ptr\u003ctensor\u003c784x128xf32\u003e\u003e\n",
            "    %1 = flow.variable.address @\"__iree_flow___sm_node16__model.layer-1.bias\" : !iree.ptr\u003ctensor\u003c128xf32\u003e\u003e\n",
            "    %2 = flow.variable.address @\"__iree_flow___sm_node21__model.layer-2.kernel\" : !iree.ptr\u003ctensor\u003c128x10xf32\u003e\u003e\n",
            "    %3 = flow.variable.address @\"__iree_flow___sm_node22__model.layer-2.bias\" : !iree.ptr\u003ctensor\u003c10xf32\u003e\u003e\n",
            "    %4 = mhlo.constant opaque\u003c\"\", \"0xDEADBEEF\"\u003e : tensor\u003c1x128xf32\u003e\n",
            "    %5 = mhlo.constant dense\u003c0xFF800000\u003e : tensor\u003cf32\u003e\n",
            "    %6 = mhlo.constant dense\u003c0.000000e+00\u003e : tensor\u003cf32\u003e\n",
            "    %7 = flow.variable.load.indirect %3 : !iree.ptr\u003ctensor\u003c10xf32\u003e\u003e -\u003e tensor\u003c10xf32\u003e\n",
            "    %8 = flow.variable.load.indirect %2 : !iree.ptr\u003ctensor\u003c128x10xf32\u003e\u003e -\u003e tensor\u003c128x10xf32\u003e\n",
            "    %9 = flow.variable.load.indirect %1 : !iree.ptr\u003ctensor\u003c128xf32\u003e\u003e -\u003e tensor\u003c128xf32\u003e\n",
            "    %10 = flow.variable.load.indirect %0 : !iree.ptr\u003ctensor\u003c784x128xf32\u003e\u003e -\u003e tensor\u003c784x128xf32\u003e\n",
            "    %11 = \"mhlo.reshape\"(%arg0) : (tensor\u003c1x28x28x1xf32\u003e) -\u003e tensor\u003c1x784xf32\u003e\n",
            "    %12 = \"mhlo.dot\"(%11, %10) : (tensor\u003c1x784xf32\u003e, tensor\u003c784x128xf32\u003e) -\u003e tensor\u003c1x128xf32\u003e\n",
            "    %13 = \"mhlo.broadcast_in_dim\"(%9) {broadcast_dimensions = dense\u003c1\u003e : tensor\u003c1xi64\u003e} : (tensor\u003c128xf32\u003e) -\u003e tensor\u003c1x128xf32\u003e\n",
            "    %14 = mhlo.add %12, %13 : tensor\u003c1x128xf32\u003e\n",
            "    %15 = mhlo.maximum %14, %4 : tensor\u003c1x128xf32\u003e\n",
            "    %16 = \"mhlo.dot\"(%15, %8) : (tensor\u003c1x128xf32\u003e, tensor\u003c128x10xf32\u003e) -\u003e tensor\u003c1x10xf32\u003e\n",
            "    %17 = \"mhlo.broadcast_in_dim\"(%7) {broadcast_dimensions = dense\u003c1\u003e : tensor\u003c1xi64\u003e} : (tensor\u003c10xf32\u003e) -\u003e tensor\u003c1x10xf32\u003e\n",
            "    %18 = mhlo.add %16, %17 : tensor\u003c1x10xf32\u003e\n",
            "    %19 = \"mhlo.reduce\"(%18, %5) ( {\n",
            "    ^bb0(%arg1: tensor\u003cf32\u003e, %arg2: tensor\u003cf32\u003e):  // no predecessors\n",
            "      %26 = mhlo.maximum %arg1, %arg2 : tensor\u003cf32\u003e\n",
            "      \"mhlo.return\"(%26) : (tensor\u003cf32\u003e) -\u003e ()\n",
            "    }) {dimensions = dense\u003c1\u003e : tensor\u003c1xi64\u003e} : (tensor\u003c1x10xf32\u003e, tensor\u003cf32\u003e) -\u003e tensor\u003c1xf32\u003e\n",
            "    %20 = \"mhlo.broadcast_in_dim\"(%19) {broadcast_dimensions = dense\u003c0\u003e : tensor\u003c1xi64\u003e} : (tensor\u003c1xf32\u003e) -\u003e tensor\u003c1x10xf32\u003e\n",
            "    %21 = mhlo.subtract %18, %20 : tensor\u003c1x10xf32\u003e\n",
            "    %22 = \"mhlo.exponential\"(%21) : (tensor\u003c1x10xf32\u003e) -\u003e tensor\u003c1x10xf32\u003e\n",
            "    %23 = \"mhlo.reduce\"(%22, %6) ( {\n",
            "    ^bb0(%arg1: tensor\u003cf32\u003e, %arg2: tensor\u003cf32\u003e):  // no predecessors\n",
            "      %26 = mhlo.add %arg1, %arg2 : tensor\u003cf32\u003e\n",
            "      \"mhlo.return\"(%26) : (tensor\u003cf32\u003e) -\u003e ()\n",
            "    }) {dimensions = dense\u003c1\u003e : tensor\u003c1xi64\u003e} : (tensor\u003c1x10xf32\u003e, tensor\u003cf32\u003e) -\u003e tensor\u003c1xf32\u003e\n",
            "    %24 = \"mhlo.broadcast_in_dim\"(%23) {broadcast_dimensions = dense\u003c0\u003e : tensor\u003c1xi64\u003e} : (tensor\u003c1xf32\u003e) -\u003e tensor\u003c1x10xf32\u003e\n",
            "    %25 = mhlo.divide %22, %24 : tensor\u003c1x10xf32\u003e\n",
            "    return %25 : tensor\u003c1x10xf32\u003e\n",
            "  }\n",
            "}\n"
          ]
        }
      ],
      "source": [
        "#@title Wrap the model in a tf.Module with IREE-compatible settings and convert to MLIR.\n",
        "\n",
        "# Since the model was written in sequential style, explicitly wrap in a module.\n",
        "inference_module = tf.Module()\n",
        "inference_module.model = tf_model\n",
        "\n",
        "# Hack: Convert to static shape. Won't be necessary once dynamic shapes are in.\n",
        "dynamic_input_shape = list(tf_model.inputs[0].shape)\n",
        "dynamic_input_shape[0] = 1  # Make fixed (batch=1)\n",
        "\n",
        "# Produce a concrete function to compile.\n",
        "inference_module.predict = tf.function(input_signature=[\n",
        "    tf.TensorSpec(dynamic_input_shape, tf_model.inputs[0].dtype)\n",
        "])(lambda x: tf_model.call(x, training=False))\n",
        "\n",
        "# Include the function to compile in the list of exported_names.\n",
        "compiler_module = ireec.tf_module_to_compiler_module(\n",
        "    inference_module, exported_names=[\"predict\"])\n",
        "\n",
        "print(\"Imported MLIR:\\n\", compiler_module.to_asm(large_element_limit=100))"
      ]
    },
    {
      "cell_type": "code",
      "execution_count": 8,
      "metadata": {
        "colab": {},
        "colab_type": "code",
        "executionInfo": {
          "elapsed": 48,
          "status": "ok",
          "timestamp": 1598547515930,
          "user": {
            "displayName": "",
            "photoUrl": "",
            "userId": ""
          },
          "user_tz": 420
        },
        "id": "G7v-2EbjyggO"
      },
      "outputs": [],
      "source": [
        "#@markdown ### Backend Configuration\n",
        "\n",
        "backend_choice = \"iree_vmla (CPU)\" #@param [ \"iree_vmla (CPU)\", \"iree_llvmjit (CPU)\", \"iree_vulkan (GPU/SwiftShader)\" ]\n",
        "backend_choice = backend_choice.split(\" \")[0]\n",
        "backend = tf_utils.BackendInfo(backend_choice)"
      ]
    },
    {
      "cell_type": "code",
      "execution_count": 9,
      "metadata": {
        "colab": {
          "height": 51
        },
        "colab_type": "code",
        "executionInfo": {
          "elapsed": 727,
          "status": "ok",
          "timestamp": 1598547519894,
          "user": {
            "displayName": "",
            "photoUrl": "",
            "userId": ""
          },
          "user_tz": 420
        },
        "id": "IDHI7h3khJr9",
        "outputId": "91b29a57-8584-4980-b4b0-24a1d7568805"
      },
      "outputs": [
        {
          "name": "stderr",
          "output_type": "stream",
          "text": [
            "Created IREE driver vmla: \u003ciree.bindings.python.pyiree.rt.binding.HalDriver object at 0x7fb362fde928\u003e\n",
            "SystemContext driver=\u003ciree.bindings.python.pyiree.rt.binding.HalDriver object at 0x7fb362fde928\u003e\n"
          ]
        }
      ],
      "source": [
        "#@title Compile the mhlo MLIR to an IREE backend and prepare a context to execute it\n",
        "\n",
        "# Compile the MLIR module into a VM module for execution.\n",
        "flatbuffer_blob = compiler_module.compile(\n",
        "    target_backends=backend.compiler_targets)\n",
        "vm_module = ireert.VmModule.from_flatbuffer(flatbuffer_blob)\n",
        "\n",
        "# Register the module with a runtime context.\n",
        "config = ireert.Config(backend.driver)\n",
        "ctx = ireert.SystemContext(config=config)\n",
        "ctx.add_module(vm_module)"
      ]
    },
    {
      "cell_type": "code",
      "execution_count": 10,
      "metadata": {
        "colab": {
          "height": 299
        },
        "colab_type": "code",
        "executionInfo": {
          "elapsed": 1212,
          "status": "ok",
          "timestamp": 1598547527476,
          "user": {
            "displayName": "",
            "photoUrl": "",
            "userId": ""
          },
          "user_tz": 420
        },
        "id": "S2FYao92Xd6r",
        "outputId": "61315fd3-f3ec-4991-c10f-a719039d2d06"
      },
      "outputs": [
        {
          "data": {
            "image/png": "[encoded data removed]",
            "text/plain": [
              "\u003cFigure size 1200x400 with 2 Axes\u003e"
            ]
          },
          "metadata": {
            "tags": []
          },
          "output_type": "display_data"
        }
      ],
      "source": [
        "#@title Execute the compiled module and compare the results with TensorFlow\n",
        "\n",
        "# Invoke the 'predict' function with a single image as an argument\n",
        "iree_prediction = ctx.modules.module.predict(x_train[sample_index][None, :])[0]\n",
        "tf_prediction = tf_model.predict(x_train[sample_index][None, :])[0]\n",
        "error = tf_prediction - iree_prediction\n",
        "\n",
        "fig, axs = plt.subplots(1, 2)\n",
        "fig.set_figwidth(12)\n",
        "\n",
        "ax = axs[0]\n",
        "ax.plot(iree_prediction, linewidth=2, label=backend.name)\n",
        "ax.plot(tf_prediction, linewidth=2, label=\"tf\")\n",
        "\n",
        "ax.set_title(\"Predictions\")\n",
        "ax.set_ylabel(\"Softmax 'Probability'\")\n",
        "ax.set_xlabel(\"Digit\")\n",
        "ax.set_ylim(0, 1)\n",
        "ax.set_xlim(0, 9)\n",
        "ax.legend(frameon=True)\n",
        "\n",
        "\n",
        "ax = axs[1]\n",
        "ax.plot(error)\n",
        "\n",
        "ax.set_title(\"Error\")\n",
        "ax.set_ylabel(\"Numerical between TF and IREE\")\n",
        "ax.set_xlabel(\"Digit\")\n",
        "ylim = 1.25 * np.max(np.abs(error))\n",
        "ax.set_ylim(-ylim, ylim)\n",
        "ax.set_xlim(0, 9)\n",
        "\n",
        "fig.tight_layout()"
      ]
    }
  ],
  "metadata": {
    "colab": {
      "collapsed_sections": [],
      "last_runtime": {
        "build_target": "",
        "kind": "local"
      },
      "name": "mnist_tensorflow.ipynb",
      "provenance": []
    },
    "kernelspec": {
      "display_name": "Python 3",
      "name": "python3"
    }
  },
  "nbformat": 4,
  "nbformat_minor": 0
}
