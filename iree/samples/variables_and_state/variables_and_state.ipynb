{
  "nbformat": 4,
  "nbformat_minor": 0,
  "metadata": {
    "colab": {
      "name": "variables_and_state.ipynb",
      "provenance": [],
      "collapsed_sections": []
    },
    "kernelspec": {
      "display_name": "Python 3",
      "name": "python3"
    }
  },
  "cells": [
    {
      "cell_type": "markdown",
      "metadata": {
        "id": "j_IgB6_3npkE"
      },
      "source": [
        "```\n",
        "Copyright 2021 The IREE Authors\n",
        " \n",
        "Licensed under the Apache License v2.0 with LLVM Exceptions.\n",
        "See https://llvm.org/LICENSE.txt for license information.\n",
        "SPDX-License-Identifier: Apache-2.0 WITH LLVM-exception\n",
        "```"
      ]
    },
    {
      "cell_type": "markdown",
      "metadata": {
        "id": "h5s6ncerSpc5"
      },
      "source": [
        "# Variables and State\n",
        "\n",
        "This notebook\n",
        "\n",
        "1. Creates a TensorFlow program with basic tf.Variable use\n",
        "2. Imports that program into IREE's compiler\n",
        "3. Compiles the imported program to an IREE VM bytecode module\n",
        "4. Tests running the compiled VM module using IREE's runtime\n",
        "5. Downloads compilation artifacts for use with the native (C API) sample application"
      ]
    },
    {
      "cell_type": "code",
      "metadata": {
        "id": "s2bScbYkP6VZ",
        "colab": {
          "base_uri": "https://localhost:8080/"
        },
        "outputId": "d0d207d5-ca38-4ef9-881b-f0464bccff8e"
      },
      "source": [
        "#@title General setup\n",
        "\n",
        "import os\n",
        "import tempfile\n",
        "\n",
        "ARTIFACTS_DIR = os.path.join(tempfile.gettempdir(), \"iree\", \"colab_artifacts\")\n",
        "os.makedirs(ARTIFACTS_DIR, exist_ok=True)\n",
        "print(f\"Using artifacts directory '{ARTIFACTS_DIR}'\")"
      ],
      "execution_count": 1,
      "outputs": [
        {
          "output_type": "stream",
          "text": [
            "Using artifacts directory '/tmp/iree/colab_artifacts'\n"
          ],
          "name": "stdout"
        }
      ]
    },
    {
      "cell_type": "markdown",
      "metadata": {
        "id": "dBHgjTjGPOJ7"
      },
      "source": [
        "## Create a program using TensorFlow and import it into IREE\n",
        "\n",
        "This program uses `tf.Variable` to track state internal to the program then exports functions which can be used to interact with that variable.\n",
        "\n",
        "Note that each function we want to be callable from our compiled program needs\n",
        "to use `@tf.function` with an `input_signature` specified.\n",
        "\n",
        "References:\n",
        "\n",
        "* [\"Introduction to Variables\" Guide](https://www.tensorflow.org/guide/variable)\n",
        "* [`tf.Variable` reference](https://www.tensorflow.org/api_docs/python/tf/Variable)\n",
        "* [`tf.function` reference](https://www.tensorflow.org/api_docs/python/tf/function)"
      ]
    },
    {
      "cell_type": "code",
      "metadata": {
        "id": "hwApbPstraWZ"
      },
      "source": [
        "#@title Define a simple \"counter\" TensorFlow module\n",
        "\n",
        "import tensorflow as tf\n",
        "\n",
        "class CounterModule(tf.Module):\n",
        "  def __init__(self):\n",
        "    super().__init__()\n",
        "    self.counter = tf.Variable(0)\n",
        "\n",
        "  @tf.function(input_signature=[])\n",
        "  def get_value(self):\n",
        "    return self.counter\n",
        "    \n",
        "  @tf.function(input_signature=[tf.TensorSpec([], tf.int32)])\n",
        "  def set_value(self, new_value):\n",
        "    self.counter.assign(new_value)\n",
        "    \n",
        "  @tf.function(input_signature=[tf.TensorSpec([], tf.int32)])\n",
        "  def add_to_value(self, x):\n",
        "    self.counter.assign(self.counter + x)\n",
        "\n",
        "  @tf.function(input_signature=[])\n",
        "  def reset_value(self):\n",
        "    self.set_value(0)"
      ],
      "execution_count": 2,
      "outputs": []
    },
    {
      "cell_type": "code",
      "metadata": {
        "id": "k4aMPI2C7btB"
      },
      "source": [
        "%%capture\n",
        "!python -m pip install iree-compiler-snapshot iree-tools-tf-snapshot -f https://github.com/google/iree/releases"
      ],
      "execution_count": 3,
      "outputs": []
    },
    {
      "cell_type": "code",
      "metadata": {
        "colab": {
          "base_uri": "https://localhost:8080/"
        },
        "id": "3nSXZiZ_X8-P",
        "outputId": "9dd6e263-4751-480e-d300-e424b4d7fd8d"
      },
      "source": [
        "#@title Import the TensorFlow program into IREE as MLIR\n",
        "\n",
        "from IPython.display import clear_output\n",
        "\n",
        "from iree.compiler import tf as tfc\n",
        "\n",
        "compiler_module = tfc.compile_module(CounterModule(), import_only=True)\n",
        "clear_output()  # Skip over TensorFlow's output.\n",
        "\n",
        "# Print the imported MLIR to see how the compiler views this TensorFlow program.\n",
        "# Note IREE's `flow.variable` ops and the public (exported) functions.\n",
        "print(\"Counter MLIR:\\n```\\n\", compiler_module.decode(\"utf-8\"), \"```\\n\")\n",
        "\n",
        "# Save the imported MLIR to disk.\n",
        "imported_mlir_path = os.path.join(ARTIFACTS_DIR, \"counter.mlir\")\n",
        "with open(imported_mlir_path, \"wt\") as output_file:\n",
        "  output_file.write(compiler_module.decode(\"utf-8\"))\n",
        "print(f\"Wrote MLIR to path '{imported_mlir_path}'\")"
      ],
      "execution_count": 4,
      "outputs": [
        {
          "output_type": "stream",
          "text": [
            "Counter MLIR:\n",
            "```\n",
            " #loc0 = loc(unknown)\n",
            "module  {\n",
            "  flow.variable @counter mutable dense<0> : tensor<i32> attributes {sym_visibility = \"private\"} loc(#loc0)\n",
            "  func @add_to_value(%arg0: tensor<i32> {tf._user_specified_name = \"x\"} loc(unknown)) attributes {iree.module.export, iree.reflection = {abi = \"sip\", abiv = 1 : i32, sip = \"I8!S5!k0_0R1!\"}, tf._construction_context = \"kEagerRuntime\", tf._input_shapes = [#tf.shape<>, #tf.shape<>], tf.signature.is_stateful} {\n",
            "    %0 = flow.variable.address @counter : !iree.ptr<tensor<i32>> loc(#loc0)\n",
            "    %1 = flow.variable.load.indirect %0 : !iree.ptr<tensor<i32>> -> tensor<i32> loc(#loc1)\n",
            "    %2 = mhlo.add %1, %arg0 : tensor<i32> loc(#loc2)\n",
            "    flow.variable.store.indirect %2, %0 : tensor<i32> -> !iree.ptr<tensor<i32>> loc(#loc3)\n",
            "    return loc(#loc0)\n",
            "  } loc(#loc0)\n",
            "  func @get_value() -> tensor<i32> attributes {iree.module.export, iree.reflection = {abi = \"sip\", abiv = 1 : i32, sip = \"I1!R3!_0\"}, tf._construction_context = \"kEagerRuntime\", tf._input_shapes = [#tf.shape<>], tf.signature.is_stateful} {\n",
            "    %0 = flow.variable.address @counter : !iree.ptr<tensor<i32>> loc(#loc0)\n",
            "    %1 = flow.variable.load.indirect %0 : !iree.ptr<tensor<i32>> -> tensor<i32> loc(#loc4)\n",
            "    return %1 : tensor<i32> loc(#loc0)\n",
            "  } loc(#loc0)\n",
            "  func @reset_value() attributes {iree.module.export, iree.reflection = {abi = \"sip\", abiv = 1 : i32, sip = \"I1!R1!\"}, tf._construction_context = \"kEagerRuntime\", tf._input_shapes = [#tf.shape<>], tf.signature.is_stateful} {\n",
            "    %0 = flow.variable.address @counter : !iree.ptr<tensor<i32>> loc(#loc0)\n",
            "    %1 = mhlo.constant dense<0> : tensor<i32> loc(#loc5)\n",
            "    flow.variable.store.indirect %1, %0 : tensor<i32> -> !iree.ptr<tensor<i32>> loc(#loc6)\n",
            "    return loc(#loc0)\n",
            "  } loc(#loc0)\n",
            "  func @set_value(%arg0: tensor<i32> {tf._user_specified_name = \"new_value\"} loc(unknown)) attributes {iree.module.export, iree.reflection = {abi = \"sip\", abiv = 1 : i32, sip = \"I8!S5!k0_0R1!\"}, tf._construction_context = \"kEagerRuntime\", tf._input_shapes = [#tf.shape<>, #tf.shape<>], tf.signature.is_stateful} {\n",
            "    %0 = flow.variable.address @counter : !iree.ptr<tensor<i32>> loc(#loc0)\n",
            "    flow.variable.store.indirect %arg0, %0 : tensor<i32> -> !iree.ptr<tensor<i32>> loc(#loc7)\n",
            "    return loc(#loc0)\n",
            "  } loc(#loc0)\n",
            "} loc(#loc0)\n",
            "#loc1 = loc(callsite(\"ReadVariableOp@__inference_add_to_value_10\"(\"/usr/local/lib/python3.7/dist-packages/tensorflow/python/ops/resource_variable_ops.py\":575:0) at callsite(\"/usr/local/lib/python3.7/dist-packages/tensorflow/python/ops/variables.py\":1074:0 at callsite(\"<ipython-input-2-4934d5ff663c>\":20:0 at callsite(\"/usr/local/lib/python3.7/dist-packages/tensorflow/python/framework/func_graph.py\":982:0 at callsite(\"/usr/local/lib/python3.7/dist-packages/tensorflow/python/eager/function.py\":3971:0 at callsite(\"/usr/local/lib/python3.7/dist-packages/tensorflow/python/eager/def_function.py\":672:0 at callsite(\"/usr/local/lib/python3.7/dist-packages/tensorflow/python/framework/func_graph.py\":999:0 at callsite(\"/usr/local/lib/python3.7/dist-packages/tensorflow/python/eager/function.py\":3289:0 at callsite(\"/usr/local/lib/python3.7/dist-packages/tensorflow/python/eager/function.py\":3444:0 at \"/usr/local/lib/python3.7/dist-packages/tensorflow/python/eager/function.py\":3050:0))))))))))\n",
            "#loc2 = loc(callsite(\"add@__inference_add_to_value_10\"(\"/usr/local/lib/python3.7/dist-packages/tensorflow/python/ops/math_ops.py\":1234:0) at callsite(\"/usr/local/lib/python3.7/dist-packages/tensorflow/python/ops/variables.py\":1074:0 at callsite(\"<ipython-input-2-4934d5ff663c>\":20:0 at callsite(\"/usr/local/lib/python3.7/dist-packages/tensorflow/python/framework/func_graph.py\":982:0 at callsite(\"/usr/local/lib/python3.7/dist-packages/tensorflow/python/eager/function.py\":3971:0 at callsite(\"/usr/local/lib/python3.7/dist-packages/tensorflow/python/eager/def_function.py\":672:0 at callsite(\"/usr/local/lib/python3.7/dist-packages/tensorflow/python/framework/func_graph.py\":999:0 at callsite(\"/usr/local/lib/python3.7/dist-packages/tensorflow/python/eager/function.py\":3289:0 at callsite(\"/usr/local/lib/python3.7/dist-packages/tensorflow/python/eager/function.py\":3444:0 at \"/usr/local/lib/python3.7/dist-packages/tensorflow/python/eager/function.py\":3050:0))))))))))\n",
            "#loc3 = loc(callsite(\"AssignVariableOp@__inference_add_to_value_10\"(\"/usr/local/lib/python3.7/dist-packages/tensorflow/python/ops/gen_resource_variable_ops.py\":155:0) at callsite(\"/usr/local/lib/python3.7/dist-packages/tensorflow/python/ops/resource_variable_ops.py\":903:0 at callsite(\"<ipython-input-2-4934d5ff663c>\":20:0 at callsite(\"/usr/local/lib/python3.7/dist-packages/tensorflow/python/framework/func_graph.py\":982:0 at callsite(\"/usr/local/lib/python3.7/dist-packages/tensorflow/python/eager/function.py\":3971:0 at callsite(\"/usr/local/lib/python3.7/dist-packages/tensorflow/python/eager/def_function.py\":672:0 at callsite(\"/usr/local/lib/python3.7/dist-packages/tensorflow/python/framework/func_graph.py\":999:0 at callsite(\"/usr/local/lib/python3.7/dist-packages/tensorflow/python/eager/function.py\":3289:0 at callsite(\"/usr/local/lib/python3.7/dist-packages/tensorflow/python/eager/function.py\":3444:0 at \"/usr/local/lib/python3.7/dist-packages/tensorflow/python/eager/function.py\":3050:0))))))))))\n",
            "#loc4 = loc(callsite(\"ReadVariableOp@__inference_get_value_16\"(\"/usr/local/lib/python3.7/dist-packages/tensorflow/python/saved_model/save.py\":1104:0) at callsite(\"/usr/local/lib/python3.7/dist-packages/tensorflow/python/saved_model/save.py\":1066:0 at callsite(\"/usr/local/lib/python3.7/dist-packages/iree/compiler/tf.py\":204:0 at callsite(\"/usr/local/lib/python3.7/dist-packages/iree/compiler/tf.py\":211:0 at callsite(\"<ipython-input-4-601a89dcf132>\":7:0 at callsite(\"/usr/local/lib/python3.7/dist-packages/IPython/core/interactiveshell.py\":2882:0 at callsite(\"/usr/local/lib/python3.7/dist-packages/IPython/core/interactiveshell.py\":2822:0 at callsite(\"/usr/local/lib/python3.7/dist-packages/IPython/core/interactiveshell.py\":2718:0 at callsite(\"/usr/local/lib/python3.7/dist-packages/ipykernel/zmqshell.py\":537:0 at \"/usr/local/lib/python3.7/dist-packages/ipykernel/ipkernel.py\":208:0))))))))))\n",
            "#loc5 = loc(callsite(\"Const@__inference_reset_value_27\"(\"/usr/local/lib/python3.7/dist-packages/tensorflow/python/eager/def_function.py\":954:0) at callsite(\"/usr/local/lib/python3.7/dist-packages/tensorflow/python/eager/def_function.py\":889:0 at callsite(\"<ipython-input-2-4934d5ff663c>\":24:0 at callsite(\"/usr/local/lib/python3.7/dist-packages/tensorflow/python/framework/func_graph.py\":982:0 at callsite(\"/usr/local/lib/python3.7/dist-packages/tensorflow/python/eager/function.py\":3971:0 at callsite(\"/usr/local/lib/python3.7/dist-packages/tensorflow/python/eager/def_function.py\":672:0 at callsite(\"/usr/local/lib/python3.7/dist-packages/tensorflow/python/framework/func_graph.py\":999:0 at callsite(\"/usr/local/lib/python3.7/dist-packages/tensorflow/python/eager/function.py\":3289:0 at callsite(\"/usr/local/lib/python3.7/dist-packages/tensorflow/python/eager/function.py\":3444:0 at \"/usr/local/lib/python3.7/dist-packages/tensorflow/python/eager/function.py\":3050:0))))))))))\n",
            "#loc6 = loc(callsite(callsite(\"AssignVariableOp@__inference_set_value_23\"(\"/usr/local/lib/python3.7/dist-packages/tensorflow/python/ops/gen_resource_variable_ops.py\":155:0) at callsite(\"/usr/local/lib/python3.7/dist-packages/tensorflow/python/ops/resource_variable_ops.py\":903:0 at callsite(\"<ipython-input-2-4934d5ff663c>\":16:0 at callsite(\"/usr/local/lib/python3.7/dist-packages/tensorflow/python/framework/func_graph.py\":982:0 at callsite(\"/usr/local/lib/python3.7/dist-packages/tensorflow/python/eager/function.py\":3971:0 at callsite(\"/usr/local/lib/python3.7/dist-packages/tensorflow/python/eager/def_function.py\":672:0 at callsite(\"/usr/local/lib/python3.7/dist-packages/tensorflow/python/framework/func_graph.py\":999:0 at callsite(\"/usr/local/lib/python3.7/dist-packages/tensorflow/python/eager/function.py\":3289:0 at callsite(\"/usr/local/lib/python3.7/dist-packages/tensorflow/python/eager/function.py\":3444:0 at \"/usr/local/lib/python3.7/dist-packages/tensorflow/python/eager/function.py\":3050:0))))))))) at callsite(\"StatefulPartitionedCall@__inference_reset_value_27\"(\"/usr/local/lib/python3.7/dist-packages/tensorflow/python/eager/def_function.py\":957:0) at callsite(\"/usr/local/lib/python3.7/dist-packages/tensorflow/python/eager/def_function.py\":889:0 at callsite(\"<ipython-input-2-4934d5ff663c>\":24:0 at callsite(\"/usr/local/lib/python3.7/dist-packages/tensorflow/python/framework/func_graph.py\":982:0 at callsite(\"/usr/local/lib/python3.7/dist-packages/tensorflow/python/eager/function.py\":3971:0 at callsite(\"/usr/local/lib/python3.7/dist-packages/tensorflow/python/eager/def_function.py\":672:0 at callsite(\"/usr/local/lib/python3.7/dist-packages/tensorflow/python/framework/func_graph.py\":999:0 at callsite(\"/usr/local/lib/python3.7/dist-packages/tensorflow/python/eager/function.py\":3289:0 at callsite(\"/usr/local/lib/python3.7/dist-packages/tensorflow/python/eager/function.py\":3444:0 at \"/usr/local/lib/python3.7/dist-packages/tensorflow/python/eager/function.py\":3050:0)))))))))))\n",
            "#loc7 = loc(callsite(\"AssignVariableOp@__inference_set_value_23\"(\"/usr/local/lib/python3.7/dist-packages/tensorflow/python/ops/gen_resource_variable_ops.py\":155:0) at callsite(\"/usr/local/lib/python3.7/dist-packages/tensorflow/python/ops/resource_variable_ops.py\":903:0 at callsite(\"<ipython-input-2-4934d5ff663c>\":16:0 at callsite(\"/usr/local/lib/python3.7/dist-packages/tensorflow/python/framework/func_graph.py\":982:0 at callsite(\"/usr/local/lib/python3.7/dist-packages/tensorflow/python/eager/function.py\":3971:0 at callsite(\"/usr/local/lib/python3.7/dist-packages/tensorflow/python/eager/def_function.py\":672:0 at callsite(\"/usr/local/lib/python3.7/dist-packages/tensorflow/python/framework/func_graph.py\":999:0 at callsite(\"/usr/local/lib/python3.7/dist-packages/tensorflow/python/eager/function.py\":3289:0 at callsite(\"/usr/local/lib/python3.7/dist-packages/tensorflow/python/eager/function.py\":3444:0 at \"/usr/local/lib/python3.7/dist-packages/tensorflow/python/eager/function.py\":3050:0))))))))))\n",
            "\n",
            " ```\n",
            "\n",
            "Wrote MLIR to path '/tmp/iree/colab_artifacts/counter.mlir'\n"
          ],
          "name": "stdout"
        }
      ]
    },
    {
      "cell_type": "markdown",
      "metadata": {
        "id": "WCiRV6KRh3iA"
      },
      "source": [
        "## Test the imported program\n",
        "\n",
        "_Note: you can stop after each step and use intermediate outputs with other tools outside of Colab._\n",
        "\n",
        "_See the [README](https://github.com/google/iree/tree/main/iree/samples/variables_and_state#changing-compilation-options) for more details and example command line instructions._\n",
        "\n",
        "* _The \"imported MLIR\" can be used by IREE's generic compiler tools_\n",
        "* _The \"flatbuffer blob\" can be saved and used by runtime applications_\n",
        "\n",
        "_The specific point at which you switch from Python to native tools will depend on your project._"
      ]
    },
    {
      "cell_type": "code",
      "metadata": {
        "id": "6TV6_Hdu6Xlf"
      },
      "source": [
        "%%capture\n",
        "!python -m pip install iree-compiler-snapshot -f https://github.com/google/iree/releases"
      ],
      "execution_count": 5,
      "outputs": []
    },
    {
      "cell_type": "code",
      "metadata": {
        "id": "GF0dzDsbaP2w",
        "colab": {
          "base_uri": "https://localhost:8080/"
        },
        "outputId": "5b475dfa-2108-4740-fa26-3891e0106817"
      },
      "source": [
        "#@title Compile the imported MLIR further into an IREE VM bytecode module\n",
        "\n",
        "from iree.compiler import compile_str\n",
        "\n",
        "flatbuffer_blob = compile_str(compiler_module, target_backends=[\"vmvx\"])\n",
        "\n",
        "# Save the imported MLIR to disk.\n",
        "flatbuffer_path = os.path.join(ARTIFACTS_DIR, \"counter_vmvx.vmfb\")\n",
        "with open(flatbuffer_path, \"wb\") as output_file:\n",
        "  output_file.write(flatbuffer_blob)\n",
        "print(f\"Wrote .vmfb to path '{flatbuffer_path}'\")"
      ],
      "execution_count": 6,
      "outputs": [
        {
          "output_type": "stream",
          "text": [
            "Wrote .vmfb to path '/tmp/iree/colab_artifacts/counter_vmvx.vmfb'\n"
          ],
          "name": "stdout"
        }
      ]
    },
    {
      "cell_type": "code",
      "metadata": {
        "id": "G7g5eXYL6hWb"
      },
      "source": [
        "%%capture\n",
        "!python -m pip install iree-runtime-snapshot -f https://github.com/google/iree/releases"
      ],
      "execution_count": 7,
      "outputs": []
    },
    {
      "cell_type": "code",
      "metadata": {
        "colab": {
          "base_uri": "https://localhost:8080/"
        },
        "id": "h8cmF6nAfza0",
        "outputId": "1fb57ac9-5d63-4ea9-e672-d4b60fabd126"
      },
      "source": [
        "#@title Test running the compiled VM module using IREE's runtime\n",
        "\n",
        "from iree import runtime as ireert\n",
        "\n",
        "vm_module = ireert.VmModule.from_flatbuffer(flatbuffer_blob)\n",
        "config = ireert.Config(\"vmvx\")\n",
        "ctx = ireert.SystemContext(config=config)\n",
        "ctx.add_vm_module(vm_module)"
      ],
      "execution_count": 8,
      "outputs": [
        {
          "output_type": "stream",
          "text": [
            "Created IREE driver vmvx: <iree.runtime.binding.HalDriver object at 0x7fe4a92227b0>\n",
            "SystemContext driver=<iree.runtime.binding.HalDriver object at 0x7fe4a92227b0>\n"
          ],
          "name": "stderr"
        }
      ]
    },
    {
      "cell_type": "code",
      "metadata": {
        "colab": {
          "base_uri": "https://localhost:8080/"
        },
        "id": "CQffg1iQatkb",
        "outputId": "1b8ba22f-8bd7-4a3d-c1f5-b732d2534cb2"
      },
      "source": [
        "# Our @tf.functions are accessible by name on the module named 'module'\n",
        "counter = ctx.modules.module\n",
        "\n",
        "print(counter.get_value())\n",
        "counter.set_value(101)\n",
        "print(counter.get_value())\n",
        "\n",
        "counter.add_to_value(20)\n",
        "print(counter.get_value())\n",
        "counter.add_to_value(-50)\n",
        "print(counter.get_value())\n",
        "\n",
        "counter.reset_value()\n",
        "print(counter.get_value())"
      ],
      "execution_count": 9,
      "outputs": [
        {
          "output_type": "stream",
          "text": [
            "0\n",
            "101\n",
            "121\n",
            "71\n",
            "0\n"
          ],
          "name": "stdout"
        }
      ]
    },
    {
      "cell_type": "markdown",
      "metadata": {
        "id": "wCvwX1IEokm6"
      },
      "source": [
        "## Download compilation artifacts"
      ]
    },
    {
      "cell_type": "code",
      "metadata": {
        "colab": {
          "base_uri": "https://localhost:8080/",
          "height": 85
        },
        "id": "bUaNUkS2ohRj",
        "outputId": "e06ae6f1-1c6e-4f74-f044-9479670ffa41"
      },
      "source": [
        "ARTIFACTS_ZIP = \"/tmp/variables_and_state_colab_artifacts.zip\"\n",
        "\n",
        "print(f\"Zipping '{ARTIFACTS_DIR}' to '{ARTIFACTS_ZIP}' for download...\")\n",
        "!cd {ARTIFACTS_DIR} && zip -r {ARTIFACTS_ZIP} .\n",
        "\n",
        "# Note: you can also download files using Colab's file explorer\n",
        "from google.colab import files\n",
        "print(\"Downloading the artifacts zip file...\")\n",
        "files.download(ARTIFACTS_ZIP)"
      ],
      "execution_count": 10,
      "outputs": [
        {
          "output_type": "stream",
          "text": [
            "Zipping '/tmp/iree/colab_artifacts' to '/tmp/variables_and_state_colab_artifacts.zip' for download...\n",
            "  adding: counter_vmvx.vmfb (deflated 67%)\n",
            "  adding: counter.mlir (deflated 90%)\n",
            "Downloading the artifacts zip file...\n"
          ],
          "name": "stdout"
        },
        {
          "output_type": "display_data",
          "data": {
            "application/javascript": [
              "\n",
              "    async function download(id, filename, size) {\n",
              "      if (!google.colab.kernel.accessAllowed) {\n",
              "        return;\n",
              "      }\n",
              "      const div = document.createElement('div');\n",
              "      const label = document.createElement('label');\n",
              "      label.textContent = `Downloading \"${filename}\": `;\n",
              "      div.appendChild(label);\n",
              "      const progress = document.createElement('progress');\n",
              "      progress.max = size;\n",
              "      div.appendChild(progress);\n",
              "      document.body.appendChild(div);\n",
              "\n",
              "      const buffers = [];\n",
              "      let downloaded = 0;\n",
              "\n",
              "      const channel = await google.colab.kernel.comms.open(id);\n",
              "      // Send a message to notify the kernel that we're ready.\n",
              "      channel.send({})\n",
              "\n",
              "      for await (const message of channel.messages) {\n",
              "        // Send a message to notify the kernel that we're ready.\n",
              "        channel.send({})\n",
              "        if (message.buffers) {\n",
              "          for (const buffer of message.buffers) {\n",
              "            buffers.push(buffer);\n",
              "            downloaded += buffer.byteLength;\n",
              "            progress.value = downloaded;\n",
              "          }\n",
              "        }\n",
              "      }\n",
              "      const blob = new Blob(buffers, {type: 'application/binary'});\n",
              "      const a = document.createElement('a');\n",
              "      a.href = window.URL.createObjectURL(blob);\n",
              "      a.download = filename;\n",
              "      div.appendChild(a);\n",
              "      a.click();\n",
              "      div.remove();\n",
              "    }\n",
              "  "
            ],
            "text/plain": [
              "<IPython.core.display.Javascript object>"
            ]
          },
          "metadata": {
            "tags": []
          }
        },
        {
          "output_type": "display_data",
          "data": {
            "application/javascript": [
              "download(\"download_c4a3a2ad-0f6b-4b60-941f-76bdbd562f9c\", \"variables_and_state_colab_artifacts.zip\", 3927)"
            ],
            "text/plain": [
              "<IPython.core.display.Javascript object>"
            ]
          },
          "metadata": {
            "tags": []
          }
        }
      ]
    }
  ]
}